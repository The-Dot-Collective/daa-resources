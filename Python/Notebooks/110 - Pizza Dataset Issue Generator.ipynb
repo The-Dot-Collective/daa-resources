{
 "cells": [
  {
   "cell_type": "code",
   "execution_count": null,
   "id": "b26d7af7",
   "metadata": {},
   "outputs": [],
   "source": [
    "import calendar\n",
    "import csv\n",
    "import datetime\n",
    "import itertools\n",
    "import os\n",
    "import random\n",
    "from datetime import datetime, timedelta\n",
    "from itertools import cycle, islice\n",
    "\n",
    "import numpy as np\n",
    "import pandas as pd\n",
    "\n",
    "random.seed(42)"
   ]
  },
  {
   "cell_type": "code",
   "execution_count": null,
   "id": "b243ad77",
   "metadata": {
    "scrolled": true
   },
   "outputs": [],
   "source": [
    "raw = pd.read_csv ('data/pizza_sales.csv')\n",
    "raw[\"order_date\"] = pd.to_datetime(raw[\"order_date\"], format='%m-%d-%y')\n",
    "raw.head()"
   ]
  },
  {
   "cell_type": "markdown",
   "id": "5a48bbd0-0853-4160-ab6f-3f773f0fdb73",
   "metadata": {},
   "source": [
    "#### Generate random rows with outlying dates.\n"
   ]
  },
  {
   "cell_type": "code",
   "execution_count": null,
   "id": "96c4690d-0f4f-4514-8e85-2205f03ac013",
   "metadata": {},
   "outputs": [],
   "source": [
    "def generate_random_date_in_range(start_year, end_year):\n",
    "    \"\"\"Generate a random date within a specified range of years.\"\"\"\n",
    "    start_date = datetime(start_year, 1, 1)\n",
    "    end_date = datetime(end_year, 12, 31)\n",
    "    delta = end_date - start_date\n",
    "    random_days = random.randint(0, delta.days)\n",
    "    return start_date + timedelta(days=random_days)\n",
    "\n",
    "\n",
    "def generate_random_past_or_present_row(df):\n",
    "    \"\"\"Generate a new row with random values based on existing data, with a modified date.\n",
    "    Dates are adjusted to fall within the ranges 1700-1800 or 2100-2200.\"\"\"\n",
    "    sample_row = df.sample(1, random_state=random.randint(1, 10000)).iloc[0].copy()\n",
    "\n",
    "    # Choose between the past and future date ranges\n",
    "    if random.choice([True, False]):\n",
    "        start_year, end_year = 1700, 1800\n",
    "    else:\n",
    "        start_year, end_year = 2100, 2200\n",
    "\n",
    "    # Generate a random date within the chosen range and keep it as a datetime object\n",
    "    new_date = generate_random_date_in_range(start_year, end_year)\n",
    "\n",
    "    # Update the order_date in the sample row\n",
    "    sample_row[\"order_date\"] = new_date\n",
    "\n",
    "    # Ensure the order_details_id is unique\n",
    "    sample_row[\"order_details_id\"] = df[\"order_details_id\"].max() + 1\n",
    "\n",
    "    return sample_row\n",
    "\n",
    "\n",
    "# Since the df was modified in previous operations, let's reset it to ensure consistency\n",
    "df = raw.copy()\n",
    "\n",
    "# Convert 'order_date' to datetime for consistency with the function's expectations\n",
    "\n",
    "# Generate 60 new rows adjusted for the new date ranges\n",
    "new_rows = [generate_random_past_or_present_row(df) for _ in range(60)]\n",
    "\n",
    "# Convert the list of dictionaries to a DataFrame\n",
    "df_new_rows = pd.DataFrame(new_rows)\n",
    "\n",
    "# Add these rows to the original DataFrame\n",
    "output = pd.concat([df, df_new_rows], ignore_index=True)\n",
    "\n",
    "output.sort_values(by='order_date')"
   ]
  },
  {
   "cell_type": "markdown",
   "id": "16ef57c1-b8a8-46bb-a93d-728b33caa7e9",
   "metadata": {},
   "source": [
    "### Adding random, duplicate rows."
   ]
  },
  {
   "cell_type": "code",
   "execution_count": null,
   "id": "26e8d45c",
   "metadata": {
    "scrolled": true
   },
   "outputs": [],
   "source": [
    "def introduce_duplicate_rows(df, n=1000):\n",
    "    duplicates = df.sample(n=n, replace=True).reset_index(drop=True)\n",
    "    return pd.concat([df, duplicates], ignore_index=True)\n",
    "\n",
    "output = introduce_duplicate_rows(df=output)"
   ]
  },
  {
   "cell_type": "markdown",
   "id": "ba7c65a4-6e23-4133-8755-9efad8928d7c",
   "metadata": {},
   "source": [
    "#### Change random values in random rows to null."
   ]
  },
  {
   "cell_type": "code",
   "execution_count": null,
   "id": "8a12380c-9e77-4412-98fc-b220369d6694",
   "metadata": {},
   "outputs": [],
   "source": [
    "def modify_random_rows(df, random_seed=42):\n",
    "    np.random.seed(random_seed)  # Set the random seed for reproducibility\n",
    "\n",
    "    # Exclude columns of datetime64[ns] type from modification\n",
    "    columns_to_consider = df.select_dtypes(exclude=['datetime64[ns]']).columns\n",
    "    \n",
    "    # Determine the exact number of rows to modify, randomly choosing up to 1000\n",
    "    rows_to_modify_count = np.random.randint(1, min(len(df), 1001))\n",
    "    \n",
    "    # Select random row indices\n",
    "    random_indices = np.random.choice(df.index, size=rows_to_modify_count, replace=False)\n",
    "    \n",
    "    for index in random_indices:\n",
    "        # Randomly determine the number of values to change to null, up to 5\n",
    "        values_to_null_count = np.random.randint(1, 6)\n",
    "        \n",
    "        # Select random columns to modify from the eligible columns\n",
    "        if len(columns_to_consider) > 0:\n",
    "            columns_to_modify = np.random.choice(columns_to_consider, size=min(values_to_null_count, len(columns_to_consider)), replace=False)\n",
    "            for column in columns_to_modify:\n",
    "                df.at[index, column] = np.nan\n",
    "    \n",
    "    return df\n",
    "\n",
    "# To use this function, simply pass your dataframe to it as follows:\n",
    "# Display the modified rows\n",
    "output = modify_random_rows(output)\n",
    "output.loc[output.isnull().any(axis=1)]"
   ]
  },
  {
   "cell_type": "markdown",
   "id": "d9c5cd0a-b443-405c-874a-525de3c509f9",
   "metadata": {},
   "source": [
    "#### Swap values between columns."
   ]
  },
  {
   "cell_type": "code",
   "execution_count": null,
   "id": "376efcba",
   "metadata": {},
   "outputs": [],
   "source": [
    "def swap_values_between_columns(df, col1, col2, random_seed=42, n=500):\n",
    "    np.random.seed(random_seed)\n",
    "    indices = np.random.choice(df.index, size=n, replace=False)\n",
    "    for ix in indices:\n",
    "        df.at[ix, col1], df.at[ix, col2] = df.at[ix, col2], df.at[ix, col1]\n",
    "    return df\n",
    "\n",
    "# Usage example:\n",
    "output = swap_values_between_columns(df=output, col1='order_id', col2='pizza_name', n=1500)\n",
    "# This will randomly swap values between 'pizza_name' and 'order_id' in the dataframe."
   ]
  },
  {
   "cell_type": "code",
   "execution_count": null,
   "id": "f2e434d6",
   "metadata": {},
   "outputs": [],
   "source": [
    "output.to_csv(\n",
    "    \"data/pizza_sales_with_data_quality_issues.csv\",\n",
    "    index=False,\n",
    ")"
   ]
  }
 ],
 "metadata": {
  "kernelspec": {
   "display_name": "Python 3 (ipykernel)",
   "language": "python",
   "name": "python3"
  },
  "language_info": {
   "codemirror_mode": {
    "name": "ipython",
    "version": 3
   },
   "file_extension": ".py",
   "mimetype": "text/x-python",
   "name": "python",
   "nbconvert_exporter": "python",
   "pygments_lexer": "ipython3",
   "version": "3.8.0"
  }
 },
 "nbformat": 4,
 "nbformat_minor": 5
}
