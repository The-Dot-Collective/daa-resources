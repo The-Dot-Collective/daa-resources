{
 "cells": [
  {
   "cell_type": "markdown",
   "metadata": {},
   "source": [
    "# Pizza dataset\n",
    "\n",
    "Welcome to a quick exercise for you to practice your pandas skills! We will be using the Pizza sales dataset used for previous Academy projects. Just follow along and complete the tasks outlined in bold below. The tasks will get harder and harder as you go along."
   ]
  },
  {
   "cell_type": "markdown",
   "metadata": {},
   "source": [
    "** Import pandas as pd.**"
   ]
  },
  {
   "cell_type": "code",
   "execution_count": 1,
   "metadata": {},
   "outputs": [],
   "source": [
    "import pandas as pd"
   ]
  },
  {
   "cell_type": "markdown",
   "metadata": {},
   "source": [
    "**Read pizza_sales.csv as a dataframe called pizzas. Uncomment lines below once you're done.**"
   ]
  },
  {
   "cell_type": "code",
   "execution_count": 3,
   "metadata": {
    "collapsed": false,
    "jupyter": {
     "outputs_hidden": false
    }
   },
   "outputs": [],
   "source": [
    "pizzas = pd.read_csv(\"data/pizza_sales.csv\")\n",
    "\n",
    "# Uncomment these lines once you manage to load the pizzas dataframe.\n",
    "pizzas[\"order_time\"] = pd.to_datetime(pizzas[\"order_time\"], format=\"%H:%M\")\n",
    "pizzas[\"order_date\"] = pd.to_datetime(pizzas[\"order_date\"])"
   ]
  },
  {
   "cell_type": "markdown",
   "metadata": {},
   "source": [
    "**Check the head of the DataFrame.**"
   ]
  },
  {
   "cell_type": "code",
   "execution_count": 5,
   "metadata": {
    "collapsed": false,
    "jupyter": {
     "outputs_hidden": false
    }
   },
   "outputs": [
    {
     "data": {
      "text/plain": [
       "0        11\n",
       "1        11\n",
       "2        11\n",
       "3        11\n",
       "4        11\n",
       "         ..\n",
       "48615    21\n",
       "48616    21\n",
       "48617    21\n",
       "48618    22\n",
       "48619    23\n",
       "Name: order_time, Length: 48620, dtype: int64"
      ]
     },
     "execution_count": 5,
     "metadata": {},
     "output_type": "execute_result"
    }
   ],
   "source": [
    "pizzas['order_time'].dt.hour"
   ]
  },
  {
   "cell_type": "markdown",
   "metadata": {},
   "source": [
    "** Use the .info() method to find out how many entries there are.**"
   ]
  },
  {
   "cell_type": "code",
   "execution_count": 4,
   "metadata": {
    "collapsed": false,
    "jupyter": {
     "outputs_hidden": false
    }
   },
   "outputs": [
    {
     "name": "stdout",
     "output_type": "stream",
     "text": [
      "<class 'pandas.core.frame.DataFrame'>\n",
      "RangeIndex: 48620 entries, 0 to 48619\n",
      "Data columns (total 16 columns):\n",
      " #   Column             Non-Null Count  Dtype         \n",
      "---  ------             --------------  -----         \n",
      " 0   order_details_id   48620 non-null  int64         \n",
      " 1   order_id           48620 non-null  int64         \n",
      " 2   pizza_id           48620 non-null  object        \n",
      " 3   quantity           48620 non-null  int64         \n",
      " 4   order_date         48620 non-null  datetime64[ns]\n",
      " 5   order_time         48620 non-null  datetime64[ns]\n",
      " 6   unit_price         48620 non-null  float64       \n",
      " 7   total_price        48620 non-null  float64       \n",
      " 8   pizza_size         48620 non-null  object        \n",
      " 9   pizza_category     48620 non-null  object        \n",
      " 10  pizza_ingredients  48620 non-null  object        \n",
      " 11  pizza_name         48620 non-null  object        \n",
      " 12  first_name         48619 non-null  object        \n",
      " 13  second_name        48619 non-null  object        \n",
      " 14  address            48619 non-null  object        \n",
      " 15  date_of_birth      48619 non-null  object        \n",
      "dtypes: datetime64[ns](2), float64(2), int64(3), object(9)\n",
      "memory usage: 5.9+ MB\n"
     ]
    }
   ],
   "source": [
    "pizzas.info()"
   ]
  },
  {
   "cell_type": "markdown",
   "metadata": {},
   "source": [
    "**What is the average `total_price`?**"
   ]
  },
  {
   "cell_type": "code",
   "execution_count": 5,
   "metadata": {
    "collapsed": false,
    "jupyter": {
     "outputs_hidden": false
    }
   },
   "outputs": [
    {
     "data": {
      "text/plain": [
       "16.821473673385437"
      ]
     },
     "execution_count": 5,
     "metadata": {},
     "output_type": "execute_result"
    }
   ],
   "source": [
    "pizzas[\"total_price\"].mean()"
   ]
  },
  {
   "cell_type": "markdown",
   "metadata": {},
   "source": [
    "**What is the `best-selling` pizza?**"
   ]
  },
  {
   "cell_type": "code",
   "execution_count": 6,
   "metadata": {
    "collapsed": false,
    "jupyter": {
     "outputs_hidden": false
    }
   },
   "outputs": [
    {
     "data": {
      "text/plain": [
       "'The Classic Deluxe Pizza'"
      ]
     },
     "execution_count": 6,
     "metadata": {},
     "output_type": "execute_result"
    }
   ],
   "source": [
    "most_sold_pizza = pizzas[\"pizza_name\"].value_counts().idxmax()\n",
    "most_sold_pizza"
   ]
  },
  {
   "cell_type": "markdown",
   "metadata": {},
   "source": [
    "**What is the best-selling pizza size? What is the ratio of that size to overall sales?**"
   ]
  },
  {
   "cell_type": "code",
   "execution_count": 7,
   "metadata": {},
   "outputs": [
    {
     "data": {
      "text/plain": [
       "(18956, 0.3823778593617622)"
      ]
     },
     "execution_count": 7,
     "metadata": {},
     "output_type": "execute_result"
    }
   ],
   "source": [
    "# Calculate total sales of pizzas by size\n",
    "pizza_size_sales = pizzas.groupby(\"pizza_size\")[\"quantity\"].sum()\n",
    "\n",
    "# Best-selling pizza size\n",
    "best_selling_size_sales = pizza_size_sales.max()\n",
    "\n",
    "# Overall sales\n",
    "total_sales = pizza_size_sales.sum()\n",
    "\n",
    "# Calculate the ratio of best-selling pizza size to overall sales\n",
    "best_selling_ratio = best_selling_size_sales / total_sales\n",
    "best_selling_size_sales, best_selling_ratio"
   ]
  },
  {
   "cell_type": "markdown",
   "metadata": {},
   "source": [
    "**What is the best-selling pizza during lunchtime (12-13)?**"
   ]
  },
  {
   "cell_type": "code",
   "execution_count": 6,
   "metadata": {
    "collapsed": false,
    "jupyter": {
     "outputs_hidden": false
    }
   },
   "outputs": [
    {
     "data": {
      "text/plain": [
       "'The Pepperoni Pizza'"
      ]
     },
     "execution_count": 6,
     "metadata": {},
     "output_type": "execute_result"
    }
   ],
   "source": [
    "lunchtime_pizzas = pizzas[\n",
    "    (pizzas[\"order_time\"].dt.hour >= 12) & (pizzas[\"order_time\"].dt.hour < 13)\n",
    "]\n",
    "most_sold_lunctime_pizza = lunchtime_pizzas[\"pizza_name\"].value_counts().idxmax()\n",
    "most_sold_lunctime_pizza"
   ]
  },
  {
   "cell_type": "code",
   "execution_count": 12,
   "metadata": {},
   "outputs": [
    {
     "data": {
      "text/html": [
       "<div>\n",
       "<style scoped>\n",
       "    .dataframe tbody tr th:only-of-type {\n",
       "        vertical-align: middle;\n",
       "    }\n",
       "\n",
       "    .dataframe tbody tr th {\n",
       "        vertical-align: top;\n",
       "    }\n",
       "\n",
       "    .dataframe thead th {\n",
       "        text-align: right;\n",
       "    }\n",
       "</style>\n",
       "<table border=\"1\" class=\"dataframe\">\n",
       "  <thead>\n",
       "    <tr style=\"text-align: right;\">\n",
       "      <th></th>\n",
       "      <th>order_details_id</th>\n",
       "      <th>order_id</th>\n",
       "      <th>pizza_id</th>\n",
       "      <th>quantity</th>\n",
       "      <th>order_date</th>\n",
       "      <th>order_time</th>\n",
       "      <th>unit_price</th>\n",
       "      <th>total_price</th>\n",
       "      <th>pizza_size</th>\n",
       "      <th>pizza_category</th>\n",
       "      <th>pizza_ingredients</th>\n",
       "      <th>pizza_name</th>\n",
       "      <th>first_name</th>\n",
       "      <th>second_name</th>\n",
       "      <th>address</th>\n",
       "      <th>date_of_birth</th>\n",
       "      <th>order_hour</th>\n",
       "    </tr>\n",
       "  </thead>\n",
       "  <tbody>\n",
       "    <tr>\n",
       "      <th>6</th>\n",
       "      <td>7</td>\n",
       "      <td>3</td>\n",
       "      <td>ital_supr_m</td>\n",
       "      <td>1</td>\n",
       "      <td>2015-01-01</td>\n",
       "      <td>1900-01-01 12:12:00</td>\n",
       "      <td>16.50</td>\n",
       "      <td>16.50</td>\n",
       "      <td>M</td>\n",
       "      <td>Supreme</td>\n",
       "      <td>Calabrese Salami, Capocollo, Tomatoes, Red Oni...</td>\n",
       "      <td>The Italian Supreme Pizza</td>\n",
       "      <td>Victor</td>\n",
       "      <td>Hardy</td>\n",
       "      <td>1276 Anderson Mountain\\r\\nWrightborough, FL 13840</td>\n",
       "      <td>1963-03-22</td>\n",
       "      <td>12</td>\n",
       "    </tr>\n",
       "    <tr>\n",
       "      <th>7</th>\n",
       "      <td>8</td>\n",
       "      <td>3</td>\n",
       "      <td>prsc_argla_l</td>\n",
       "      <td>1</td>\n",
       "      <td>2015-01-01</td>\n",
       "      <td>1900-01-01 12:12:00</td>\n",
       "      <td>20.75</td>\n",
       "      <td>20.75</td>\n",
       "      <td>L</td>\n",
       "      <td>Supreme</td>\n",
       "      <td>Prosciutto di San Daniele, Arugula, Mozzarella...</td>\n",
       "      <td>The Prosciutto and Arugula Pizza</td>\n",
       "      <td>Victor</td>\n",
       "      <td>Hardy</td>\n",
       "      <td>1276 Anderson Mountain\\r\\nWrightborough, FL 13840</td>\n",
       "      <td>1963-03-22</td>\n",
       "      <td>12</td>\n",
       "    </tr>\n",
       "    <tr>\n",
       "      <th>8</th>\n",
       "      <td>9</td>\n",
       "      <td>4</td>\n",
       "      <td>ital_supr_m</td>\n",
       "      <td>1</td>\n",
       "      <td>2015-01-01</td>\n",
       "      <td>1900-01-01 12:16:00</td>\n",
       "      <td>16.50</td>\n",
       "      <td>16.50</td>\n",
       "      <td>M</td>\n",
       "      <td>Supreme</td>\n",
       "      <td>Calabrese Salami, Capocollo, Tomatoes, Red Oni...</td>\n",
       "      <td>The Italian Supreme Pizza</td>\n",
       "      <td>Michelle</td>\n",
       "      <td>Walls</td>\n",
       "      <td>4278 Davis Corner\\r\\nNorth Brianna, FM 60171</td>\n",
       "      <td>1976-03-28</td>\n",
       "      <td>12</td>\n",
       "    </tr>\n",
       "    <tr>\n",
       "      <th>9</th>\n",
       "      <td>10</td>\n",
       "      <td>5</td>\n",
       "      <td>ital_supr_m</td>\n",
       "      <td>1</td>\n",
       "      <td>2015-01-01</td>\n",
       "      <td>1900-01-01 12:21:00</td>\n",
       "      <td>16.50</td>\n",
       "      <td>16.50</td>\n",
       "      <td>M</td>\n",
       "      <td>Supreme</td>\n",
       "      <td>Calabrese Salami, Capocollo, Tomatoes, Red Oni...</td>\n",
       "      <td>The Italian Supreme Pizza</td>\n",
       "      <td>Lisa</td>\n",
       "      <td>Mills</td>\n",
       "      <td>54013 Schmidt Groves Suite 440\\r\\nSanchezmouth...</td>\n",
       "      <td>1997-08-14</td>\n",
       "      <td>12</td>\n",
       "    </tr>\n",
       "    <tr>\n",
       "      <th>10</th>\n",
       "      <td>11</td>\n",
       "      <td>6</td>\n",
       "      <td>bbq_ckn_s</td>\n",
       "      <td>1</td>\n",
       "      <td>2015-01-01</td>\n",
       "      <td>1900-01-01 12:29:00</td>\n",
       "      <td>12.75</td>\n",
       "      <td>12.75</td>\n",
       "      <td>S</td>\n",
       "      <td>Chicken</td>\n",
       "      <td>Barbecued Chicken, Red Peppers, Green Peppers,...</td>\n",
       "      <td>The Barbecue Chicken Pizza</td>\n",
       "      <td>Traci</td>\n",
       "      <td>Evans</td>\n",
       "      <td>33172 Veronica Mission\\r\\nVasquezberg, ID 63500</td>\n",
       "      <td>1941-04-17</td>\n",
       "      <td>12</td>\n",
       "    </tr>\n",
       "    <tr>\n",
       "      <th>...</th>\n",
       "      <td>...</td>\n",
       "      <td>...</td>\n",
       "      <td>...</td>\n",
       "      <td>...</td>\n",
       "      <td>...</td>\n",
       "      <td>...</td>\n",
       "      <td>...</td>\n",
       "      <td>...</td>\n",
       "      <td>...</td>\n",
       "      <td>...</td>\n",
       "      <td>...</td>\n",
       "      <td>...</td>\n",
       "      <td>...</td>\n",
       "      <td>...</td>\n",
       "      <td>...</td>\n",
       "      <td>...</td>\n",
       "      <td>...</td>\n",
       "    </tr>\n",
       "    <tr>\n",
       "      <th>48477</th>\n",
       "      <td>48478</td>\n",
       "      <td>21290</td>\n",
       "      <td>ckn_pesto_l</td>\n",
       "      <td>1</td>\n",
       "      <td>2015-12-31</td>\n",
       "      <td>1900-01-01 13:16:00</td>\n",
       "      <td>20.75</td>\n",
       "      <td>20.75</td>\n",
       "      <td>L</td>\n",
       "      <td>Chicken</td>\n",
       "      <td>Chicken, Tomatoes, Red Peppers, Spinach, Garli...</td>\n",
       "      <td>The Chicken Pesto Pizza</td>\n",
       "      <td>Maureen</td>\n",
       "      <td>Carpenter</td>\n",
       "      <td>980 Hernandez Landing\\r\\nEast Christopher, GU ...</td>\n",
       "      <td>1942-01-12</td>\n",
       "      <td>13</td>\n",
       "    </tr>\n",
       "    <tr>\n",
       "      <th>48478</th>\n",
       "      <td>48479</td>\n",
       "      <td>21290</td>\n",
       "      <td>ital_veggie_l</td>\n",
       "      <td>1</td>\n",
       "      <td>2015-12-31</td>\n",
       "      <td>1900-01-01 13:16:00</td>\n",
       "      <td>21.00</td>\n",
       "      <td>21.00</td>\n",
       "      <td>L</td>\n",
       "      <td>Veggie</td>\n",
       "      <td>Eggplant, Artichokes, Tomatoes, Zucchini, Red ...</td>\n",
       "      <td>The Italian Vegetables Pizza</td>\n",
       "      <td>Maureen</td>\n",
       "      <td>Carpenter</td>\n",
       "      <td>980 Hernandez Landing\\r\\nEast Christopher, GU ...</td>\n",
       "      <td>1942-01-12</td>\n",
       "      <td>13</td>\n",
       "    </tr>\n",
       "    <tr>\n",
       "      <th>48479</th>\n",
       "      <td>48480</td>\n",
       "      <td>21291</td>\n",
       "      <td>green_garden_s</td>\n",
       "      <td>1</td>\n",
       "      <td>2015-12-31</td>\n",
       "      <td>1900-01-01 13:29:00</td>\n",
       "      <td>12.00</td>\n",
       "      <td>12.00</td>\n",
       "      <td>S</td>\n",
       "      <td>Veggie</td>\n",
       "      <td>Spinach, Mushrooms, Tomatoes, Green Olives, Fe...</td>\n",
       "      <td>The Green Garden Pizza</td>\n",
       "      <td>Karen</td>\n",
       "      <td>Bradley</td>\n",
       "      <td>33330 David Station\\r\\nSouth Amber, KS 96633</td>\n",
       "      <td>2005-08-09</td>\n",
       "      <td>13</td>\n",
       "    </tr>\n",
       "    <tr>\n",
       "      <th>48480</th>\n",
       "      <td>48481</td>\n",
       "      <td>21292</td>\n",
       "      <td>classic_dlx_s</td>\n",
       "      <td>1</td>\n",
       "      <td>2015-12-31</td>\n",
       "      <td>1900-01-01 13:34:00</td>\n",
       "      <td>12.00</td>\n",
       "      <td>12.00</td>\n",
       "      <td>S</td>\n",
       "      <td>Classic</td>\n",
       "      <td>Pepperoni, Mushrooms, Red Onions, Red Peppers,...</td>\n",
       "      <td>The Classic Deluxe Pizza</td>\n",
       "      <td>Tammy</td>\n",
       "      <td>Barnes</td>\n",
       "      <td>30853 Cody Forge Apt. 820\\r\\nWest Denisecheste...</td>\n",
       "      <td>1990-02-10</td>\n",
       "      <td>13</td>\n",
       "    </tr>\n",
       "    <tr>\n",
       "      <th>48481</th>\n",
       "      <td>48482</td>\n",
       "      <td>21292</td>\n",
       "      <td>four_cheese_l</td>\n",
       "      <td>1</td>\n",
       "      <td>2015-12-31</td>\n",
       "      <td>1900-01-01 13:34:00</td>\n",
       "      <td>17.95</td>\n",
       "      <td>17.95</td>\n",
       "      <td>L</td>\n",
       "      <td>Veggie</td>\n",
       "      <td>Ricotta Cheese, Gorgonzola Piccante Cheese, Mo...</td>\n",
       "      <td>The Four Cheese Pizza</td>\n",
       "      <td>Tammy</td>\n",
       "      <td>Barnes</td>\n",
       "      <td>30853 Cody Forge Apt. 820\\r\\nWest Denisecheste...</td>\n",
       "      <td>1990-02-10</td>\n",
       "      <td>13</td>\n",
       "    </tr>\n",
       "  </tbody>\n",
       "</table>\n",
       "<p>12746 rows × 17 columns</p>\n",
       "</div>"
      ],
      "text/plain": [
       "       order_details_id  order_id        pizza_id  quantity order_date  \\\n",
       "6                     7         3     ital_supr_m         1 2015-01-01   \n",
       "7                     8         3    prsc_argla_l         1 2015-01-01   \n",
       "8                     9         4     ital_supr_m         1 2015-01-01   \n",
       "9                    10         5     ital_supr_m         1 2015-01-01   \n",
       "10                   11         6       bbq_ckn_s         1 2015-01-01   \n",
       "...                 ...       ...             ...       ...        ...   \n",
       "48477             48478     21290     ckn_pesto_l         1 2015-12-31   \n",
       "48478             48479     21290   ital_veggie_l         1 2015-12-31   \n",
       "48479             48480     21291  green_garden_s         1 2015-12-31   \n",
       "48480             48481     21292   classic_dlx_s         1 2015-12-31   \n",
       "48481             48482     21292   four_cheese_l         1 2015-12-31   \n",
       "\n",
       "               order_time  unit_price  total_price pizza_size pizza_category  \\\n",
       "6     1900-01-01 12:12:00       16.50        16.50          M        Supreme   \n",
       "7     1900-01-01 12:12:00       20.75        20.75          L        Supreme   \n",
       "8     1900-01-01 12:16:00       16.50        16.50          M        Supreme   \n",
       "9     1900-01-01 12:21:00       16.50        16.50          M        Supreme   \n",
       "10    1900-01-01 12:29:00       12.75        12.75          S        Chicken   \n",
       "...                   ...         ...          ...        ...            ...   \n",
       "48477 1900-01-01 13:16:00       20.75        20.75          L        Chicken   \n",
       "48478 1900-01-01 13:16:00       21.00        21.00          L         Veggie   \n",
       "48479 1900-01-01 13:29:00       12.00        12.00          S         Veggie   \n",
       "48480 1900-01-01 13:34:00       12.00        12.00          S        Classic   \n",
       "48481 1900-01-01 13:34:00       17.95        17.95          L         Veggie   \n",
       "\n",
       "                                       pizza_ingredients  \\\n",
       "6      Calabrese Salami, Capocollo, Tomatoes, Red Oni...   \n",
       "7      Prosciutto di San Daniele, Arugula, Mozzarella...   \n",
       "8      Calabrese Salami, Capocollo, Tomatoes, Red Oni...   \n",
       "9      Calabrese Salami, Capocollo, Tomatoes, Red Oni...   \n",
       "10     Barbecued Chicken, Red Peppers, Green Peppers,...   \n",
       "...                                                  ...   \n",
       "48477  Chicken, Tomatoes, Red Peppers, Spinach, Garli...   \n",
       "48478  Eggplant, Artichokes, Tomatoes, Zucchini, Red ...   \n",
       "48479  Spinach, Mushrooms, Tomatoes, Green Olives, Fe...   \n",
       "48480  Pepperoni, Mushrooms, Red Onions, Red Peppers,...   \n",
       "48481  Ricotta Cheese, Gorgonzola Piccante Cheese, Mo...   \n",
       "\n",
       "                             pizza_name first_name second_name  \\\n",
       "6             The Italian Supreme Pizza     Victor       Hardy   \n",
       "7      The Prosciutto and Arugula Pizza     Victor       Hardy   \n",
       "8             The Italian Supreme Pizza   Michelle       Walls   \n",
       "9             The Italian Supreme Pizza       Lisa       Mills   \n",
       "10           The Barbecue Chicken Pizza      Traci       Evans   \n",
       "...                                 ...        ...         ...   \n",
       "48477           The Chicken Pesto Pizza    Maureen   Carpenter   \n",
       "48478      The Italian Vegetables Pizza    Maureen   Carpenter   \n",
       "48479            The Green Garden Pizza      Karen     Bradley   \n",
       "48480          The Classic Deluxe Pizza      Tammy      Barnes   \n",
       "48481             The Four Cheese Pizza      Tammy      Barnes   \n",
       "\n",
       "                                                 address date_of_birth  \\\n",
       "6      1276 Anderson Mountain\\r\\nWrightborough, FL 13840    1963-03-22   \n",
       "7      1276 Anderson Mountain\\r\\nWrightborough, FL 13840    1963-03-22   \n",
       "8           4278 Davis Corner\\r\\nNorth Brianna, FM 60171    1976-03-28   \n",
       "9      54013 Schmidt Groves Suite 440\\r\\nSanchezmouth...    1997-08-14   \n",
       "10       33172 Veronica Mission\\r\\nVasquezberg, ID 63500    1941-04-17   \n",
       "...                                                  ...           ...   \n",
       "48477  980 Hernandez Landing\\r\\nEast Christopher, GU ...    1942-01-12   \n",
       "48478  980 Hernandez Landing\\r\\nEast Christopher, GU ...    1942-01-12   \n",
       "48479       33330 David Station\\r\\nSouth Amber, KS 96633    2005-08-09   \n",
       "48480  30853 Cody Forge Apt. 820\\r\\nWest Denisecheste...    1990-02-10   \n",
       "48481  30853 Cody Forge Apt. 820\\r\\nWest Denisecheste...    1990-02-10   \n",
       "\n",
       "       order_hour  \n",
       "6              12  \n",
       "7              12  \n",
       "8              12  \n",
       "9              12  \n",
       "10             12  \n",
       "...           ...  \n",
       "48477          13  \n",
       "48478          13  \n",
       "48479          13  \n",
       "48480          13  \n",
       "48481          13  \n",
       "\n",
       "[12746 rows x 17 columns]"
      ]
     },
     "execution_count": 12,
     "metadata": {},
     "output_type": "execute_result"
    }
   ],
   "source": [
    "pizzas['order_hour'] = pizzas['order_time'].dt.hour\n",
    "lunchtime_orders =  pizzas[(pizzas[\"order_hour\"] >= 12) & (pizzas[\"order_hour\"] <= 13)]\n",
    "lunchtime_orders"
   ]
  },
  {
   "cell_type": "markdown",
   "metadata": {},
   "source": [
    "**Calculate total earnings from each pizza types. What are the three top earners?**"
   ]
  },
  {
   "cell_type": "code",
   "execution_count": 9,
   "metadata": {
    "collapsed": false,
    "jupyter": {
     "outputs_hidden": false
    }
   },
   "outputs": [
    {
     "data": {
      "text/plain": [
       "pizza_category\n",
       "Classic    220053.1\n",
       "Supreme    208197.0\n",
       "Chicken    195919.5\n",
       "Name: total_price, dtype: float64"
      ]
     },
     "execution_count": 9,
     "metadata": {},
     "output_type": "execute_result"
    }
   ],
   "source": [
    "# Calculating total earnings from each pizza type/category\n",
    "total_earnings_per_pizza_type = pizzas.groupby(\"pizza_category\")[\"total_price\"].sum()\n",
    "\n",
    "# Finding the top 3 pizza types with the highest total earnings\n",
    "top_3_earning_pizza_types = total_earnings_per_pizza_type.sort_values(\n",
    "    ascending=False\n",
    ").head(3)\n",
    "\n",
    "top_3_earning_pizza_types"
   ]
  },
  {
   "cell_type": "markdown",
   "metadata": {},
   "source": [
    "**What's the name of the person who bought most pizzas?**"
   ]
  },
  {
   "cell_type": "code",
   "execution_count": 18,
   "metadata": {
    "collapsed": false,
    "jupyter": {
     "outputs_hidden": false
    }
   },
   "outputs": [
    {
     "data": {
      "text/plain": [
       "('Emily Davis', 55)"
      ]
     },
     "execution_count": 18,
     "metadata": {},
     "output_type": "execute_result"
    }
   ],
   "source": [
    "# Calculating the total quantity of pizzas bought by each person\n",
    "pizzas['full_name'] = pizzas['first_name'] + \" \" + pizzas['second_name']\n",
    "total_pizzas_per_person = pizzas.groupby([\"full_name\"])[\"quantity\"].sum()\n",
    "\n",
    "the person who bought the most pizzas\n",
    "person_who_bought_most_pizzas = total_pizzas_per_person.idxmax()\n",
    "most_pizzas_bought = total_pizzas_per_person.max()\n",
    "\n",
    "person_who_bought_most_pizzas, most_pizzas_bought"
   ]
  },
  {
   "cell_type": "code",
   "execution_count": 20,
   "metadata": {},
   "outputs": [
    {
     "data": {
      "text/plain": [
       "full_name\n",
       "David Moore              1\n",
       "Heather White            1\n",
       "Kathleen Herrera         1\n",
       "Heather Shea             1\n",
       "Jimmy Hill               1\n",
       "                        ..\n",
       "David Smith             47\n",
       "James Miller            47\n",
       "Christopher Martinez    51\n",
       "John Johnson            53\n",
       "Emily Davis             55\n",
       "Name: quantity, Length: 4745, dtype: int64"
      ]
     },
     "execution_count": 20,
     "metadata": {},
     "output_type": "execute_result"
    }
   ],
   "source": [
    "total_pizzas_per_person.sort_values()"
   ]
  },
  {
   "cell_type": "markdown",
   "metadata": {},
   "source": [
    "**How much money did that person spent on pizzas?** "
   ]
  },
  {
   "cell_type": "code",
   "execution_count": 11,
   "metadata": {},
   "outputs": [
    {
     "data": {
      "text/plain": [
       "940.25"
      ]
     },
     "execution_count": 11,
     "metadata": {},
     "output_type": "execute_result"
    }
   ],
   "source": [
    "# Calculating the total amount of money spent on pizzas by the person who bought the most pizzas\n",
    "money_spent_by_top_buyer = pizzas[\n",
    "    (pizzas[\"first_name\"] == \"Emily\") & (pizzas[\"second_name\"] == \"Davis\")\n",
    "][\"total_price\"].sum()\n",
    "money_spent_by_top_buyer"
   ]
  },
  {
   "cell_type": "markdown",
   "metadata": {},
   "source": [
    "**What was the average sale per every month?**"
   ]
  },
  {
   "cell_type": "code",
   "execution_count": 12,
   "metadata": {
    "collapsed": false,
    "jupyter": {
     "outputs_hidden": false
    }
   },
   "outputs": [
    {
     "data": {
      "text/plain": [
       "order_date\n",
       "2015-01    16.793383\n",
       "2015-02    16.741932\n",
       "2015-03    16.817272\n",
       "2015-04    16.901106\n",
       "2015-05    16.844244\n",
       "2015-06    16.951602\n",
       "2015-07    16.870007\n",
       "2015-08    16.677638\n",
       "2015-09    16.805460\n",
       "2015-10    16.862681\n",
       "2015-11    16.820872\n",
       "2015-12    16.766300\n",
       "Freq: M, Name: total_price, dtype: float64"
      ]
     },
     "execution_count": 12,
     "metadata": {},
     "output_type": "execute_result"
    }
   ],
   "source": [
    "average_sale_per_month = pizzas.groupby(pizzas[\"order_date\"].dt.to_period(\"M\"))[\n",
    "    \"total_price\"\n",
    "].mean()\n",
    "average_sale_per_month"
   ]
  },
  {
   "cell_type": "markdown",
   "metadata": {},
   "source": [
    "**On average, how many pizzas a person buys monthly?**"
   ]
  },
  {
   "cell_type": "code",
   "execution_count": 13,
   "metadata": {
    "collapsed": false,
    "jupyter": {
     "outputs_hidden": false
    }
   },
   "outputs": [
    {
     "data": {
      "text/plain": [
       "2.7978891522745233"
      ]
     },
     "execution_count": 13,
     "metadata": {},
     "output_type": "execute_result"
    }
   ],
   "source": [
    "# Group by month and person, then calculate the mean number of pizzas bought\n",
    "pizzas[\"year_month\"] = pizzas[\"order_date\"].dt.to_period(\"M\")\n",
    "monthly_pizza_per_person = (\n",
    "    pizzas.groupby([\"year_month\", \"first_name\", \"second_name\"])[\"quantity\"]\n",
    "    .sum()\n",
    "    .reset_index()\n",
    ")\n",
    "\n",
    "# Calculate the average number of pizzas bought per person per month\n",
    "average_pizzas_per_person_per_month = monthly_pizza_per_person[\"quantity\"].mean()\n",
    "average_pizzas_per_person_per_month"
   ]
  },
  {
   "cell_type": "markdown",
   "metadata": {},
   "source": [
    "**Bonus: What are the 5 most common ingredients?**\n",
    "\n",
    "Tip: research the .explode() dotmethod of pandas!"
   ]
  },
  {
   "cell_type": "code",
   "execution_count": 14,
   "metadata": {},
   "outputs": [
    {
     "data": {
      "text/plain": [
       "Garlic               27422\n",
       "Tomatoes             26601\n",
       "Red Onions           19547\n",
       "Red Peppers          16284\n",
       "Mozzarella Cheese    10333\n",
       "Name: pizza_ingredients, dtype: int64"
      ]
     },
     "execution_count": 14,
     "metadata": {},
     "output_type": "execute_result"
    }
   ],
   "source": [
    "# Explode the pizza ingredients into separate rows per every order_id\n",
    "pizzas_exploded = pizzas.copy()\n",
    "\n",
    "pizzas_exploded[\"pizza_ingredients\"] = pizzas_exploded[\"pizza_ingredients\"].str.split(\n",
    "    \", \"\n",
    ")\n",
    "pizzas_exploded = pizzas_exploded.explode(\"pizza_ingredients\")[\n",
    "    [\"order_details_id\", \"order_id\", \"pizza_ingredients\"]\n",
    "]\n",
    "# Find the 5 most common pizza ingredients\n",
    "top_ingredients = pizzas_exploded[\"pizza_ingredients\"].value_counts().head(5)\n",
    "top_ingredients"
   ]
  }
 ],
 "metadata": {
  "kernelspec": {
   "display_name": "Python 3 (ipykernel)",
   "language": "python",
   "name": "python3"
  },
  "language_info": {
   "codemirror_mode": {
    "name": "ipython",
    "version": 3
   },
   "file_extension": ".py",
   "mimetype": "text/x-python",
   "name": "python",
   "nbconvert_exporter": "python",
   "pygments_lexer": "ipython3",
   "version": "3.8.0"
  }
 },
 "nbformat": 4,
 "nbformat_minor": 4
}
