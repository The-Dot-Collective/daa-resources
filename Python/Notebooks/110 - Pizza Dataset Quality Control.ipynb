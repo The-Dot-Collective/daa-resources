{
 "cells": [
  {
   "cell_type": "code",
   "execution_count": null,
   "id": "89074be0-6032-4323-9661-727ef552e6a2",
   "metadata": {},
   "outputs": [],
   "source": [
    "import matplotlib.pyplot as plt\n",
    "import pandas as pd\n",
    "import plotly.express as px\n",
    "import seaborn as sns\n",
    "from IPython.display import display"
   ]
  },
  {
   "cell_type": "markdown",
   "id": "f6934353-f948-4d52-87cd-41aec10cdf5c",
   "metadata": {},
   "source": [
    "#### Functions"
   ]
  },
  {
   "cell_type": "code",
   "execution_count": null,
   "id": "6328fa4a-282a-424d-8ded-3af1f1805e29",
   "metadata": {},
   "outputs": [],
   "source": [
    "def try_cast_to_int_else_string(value):\n",
    "    try:\n",
    "        # Try to convert to integer\n",
    "        return int(value)\n",
    "    except ValueError:\n",
    "        # If conversion fails, return as string\n",
    "        return str(value)"
   ]
  },
  {
   "cell_type": "markdown",
   "id": "7f8b1d15-2644-4fa4-a454-bc378207486b",
   "metadata": {},
   "source": [
    "## Prepping data"
   ]
  },
  {
   "cell_type": "code",
   "execution_count": null,
   "id": "0430e15e-3b86-4976-abb8-b9e683aa7af9",
   "metadata": {},
   "outputs": [],
   "source": [
    "pizza = pd.read_csv(\"data/pizza_sales_with_data_quality_issues.csv\")\n",
    "pizza[\"order_date\"] = pd.to_datetime(pizza[\"order_date\"], format=\"%Y-%m-%d\")\n",
    "# Apply the function to the 'order_id' column\n",
    "pizza[\"order_id\"] = pizza[\"order_id\"].apply(try_cast_to_int_else_string)"
   ]
  },
  {
   "cell_type": "markdown",
   "id": "eb300b8a-ccd8-4032-8276-ed317733c476",
   "metadata": {},
   "source": [
    "## 1) Double trouble\n",
    "\n",
    "Duplicated data in clean datasets refers to the repetition of the same information, like listing \"The Hitchhiker's Guide to the Galaxy\" multiple times in a book collection. This can lead to errors, such as overcounting items or making decisions based on incorrect information. Removing duplicates is crucial for accurate analysis and reliable results.\n",
    "\n"
   ]
  },
  {
   "cell_type": "markdown",
   "id": "f4fd627b-bdf4-4e32-8aea-0d940872df69",
   "metadata": {},
   "source": [
    "#### Solution"
   ]
  },
  {
   "cell_type": "code",
   "execution_count": null,
   "id": "d20609db-0d6f-49b5-8ded-6e243920e230",
   "metadata": {
    "scrolled": true
   },
   "outputs": [],
   "source": [
    "# YOUR CODE HERE"
   ]
  },
  {
   "cell_type": "markdown",
   "id": "3730e8c6-c915-4dc1-97fe-3eb97e230605",
   "metadata": {},
   "source": [
    "## 2) Is pizza always on time?\n",
    "\n",
    "Outlying order dates in datasets are a common issue encountered during data analysis, especially in fields involving time-series or sequential data. These outliers can arise from various sources, such as data entry errors, system glitches, or incorrect data processing. They may manifest as dates that are significantly earlier or later than the rest of the data, or even as completely nonsensical dates (e.g., dates in the future for a supposedly historical dataset or dates well before the actual start of the dataset's timeframe). Identifying and addressing these outliers is crucial, as they can skew analysis, lead to incorrect conclusions, and affect model performance.\n",
    "\n",
    "\n",
    "Now, let's delve into examining outlying order dates in our dataset to understand their impact and decide on appropriate corrective actions. This process involves detecting these anomalies, assessing their nature, and determining the best course of action—whether it's correcting, removing, or otherwise accounting for these outliers in our analysis.\n",
    "\n"
   ]
  },
  {
   "cell_type": "code",
   "execution_count": null,
   "id": "249d72f5-0fc5-4c72-9930-9dd583fa9bfd",
   "metadata": {},
   "outputs": [],
   "source": [
    "pizza.head()"
   ]
  },
  {
   "cell_type": "markdown",
   "id": "661e2d49-24d5-4312-a60e-ea9a1fbaf710",
   "metadata": {},
   "source": [
    "#### Solution"
   ]
  },
  {
   "cell_type": "code",
   "execution_count": null,
   "id": "653ba059-2eaf-4798-b96c-f92b9b706431",
   "metadata": {
    "scrolled": true
   },
   "outputs": [],
   "source": [
    "# YOUR CODE HERE"
   ]
  },
  {
   "cell_type": "markdown",
   "id": "c1915a8b-6cad-44f6-9a96-ec4cdef78148",
   "metadata": {},
   "source": [
    "## 3) Misshapen values\n",
    "* Looks like there's something wrong with the order_id column. Shall we investigate?\n",
    "* Moreover, it's worth checking if there are rows containing empty values. How to check that? Can we safely drop them?"
   ]
  },
  {
   "cell_type": "markdown",
   "id": "d1192dcb-a8ea-41b3-a65f-e2d8a3627810",
   "metadata": {},
   "source": [
    "#### Solution"
   ]
  },
  {
   "cell_type": "code",
   "execution_count": null,
   "id": "50b2affa-44de-4891-99ca-6f1915c3a3b1",
   "metadata": {
    "scrolled": true
   },
   "outputs": [],
   "source": [
    "# YOUR CODE HERE"
   ]
  },
  {
   "cell_type": "markdown",
   "id": "55036189-37e9-4ea8-8d7d-62ef64af639d",
   "metadata": {},
   "source": [
    "## 4) Outlier detection with IQR method\n",
    "\n",
    "In the most general sense, an outlier is a data point which differs significantly from other observations. \n",
    "\n",
    "A boxplot tells us, more or less, about the distribution of the data. It gives a sense of how much the data is actually spread out, what its range is and its skewness. A boxplot enables us to draw inferences from it for ordered data. It tells us about the various metrics of  data arranged in ascending order.\n",
    "\n",
    "It labels the minimum on one side, maximum on the other and a median in the middle. That would mean:\n",
    "\n",
    "* Minimum is the minimum value in the data set.\n",
    "* Maximum is the maximum value in the data set.\n",
    "\n",
    "So, the difference between the two tells us about the range of a data set.\n",
    "\n",
    "\n",
    "* The median is the median (or center point), also called second quartile, of the data resulting from the fact that the data is ordered.\n",
    "* Q1 is the first quartile of the data, which is to say 25 percent of the data lies between minimum and Q1.\n",
    "* Q3 is the third quartile of the data, which is to say 75 percent of the data lies between minimum and Q3.\n",
    "\n",
    "To detect the outliers using this method, we define a new range - let’s call it the decision range. Any data point lying outside this range is considered an outlier and is accordingly dealt with. The range is as given below:\n",
    "\n",
    "Lower Bound: (Q1 - 1.5 * IQR)\n",
    "Upper Bound: (Q3 + 1.5 * IQR)\n",
    "\n",
    "\n",
    "The 1.5 IQR rule determines that any data point that’s 1.5 IQR points below the first quartile of data or above the third quartile is an outlier."
   ]
  },
  {
   "cell_type": "markdown",
   "id": "8ffa2ad7-1a9e-4b9e-b67b-2b6e6f3d9dc6",
   "metadata": {},
   "source": [
    "#### Visualisation"
   ]
  },
  {
   "cell_type": "code",
   "execution_count": null,
   "id": "67f3068b-690f-4a01-a5da-8c9b6d9686a9",
   "metadata": {},
   "outputs": [],
   "source": [
    "# Using Plotly to create a boxplot for total price\n",
    "fig = px.box(pizza, y=\"total_price\", title=\"Total price boxplot\")\n",
    "\n",
    "# Adjust the layout to make the boxplot taller\n",
    "fig.update_layout(height=500)  # Adjust the height as needed\n",
    "fig.show()"
   ]
  },
  {
   "cell_type": "markdown",
   "id": "d89ae87b-65d4-4d55-9e60-3cff878238c8",
   "metadata": {},
   "source": [
    "#### Solution\n",
    "Try and code your own function to detect outliers in 'total_price' column according to IQR method."
   ]
  },
  {
   "cell_type": "code",
   "execution_count": null,
   "id": "e3b8e9c3-ae80-4a23-91eb-669742a7cac0",
   "metadata": {},
   "outputs": [],
   "source": [
    "# YOUR CODE HERE"
   ]
  }
 ],
 "metadata": {
  "kernelspec": {
   "display_name": "Python 3 (ipykernel)",
   "language": "python",
   "name": "python3"
  },
  "language_info": {
   "codemirror_mode": {
    "name": "ipython",
    "version": 3
   },
   "file_extension": ".py",
   "mimetype": "text/x-python",
   "name": "python",
   "nbconvert_exporter": "python",
   "pygments_lexer": "ipython3",
   "version": "3.8.0"
  }
 },
 "nbformat": 4,
 "nbformat_minor": 5
}
